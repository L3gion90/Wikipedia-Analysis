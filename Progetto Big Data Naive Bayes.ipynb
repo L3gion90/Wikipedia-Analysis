{
 "cells": [
  {
   "cell_type": "code",
   "execution_count": 0,
   "metadata": {
    "application/vnd.databricks.v1+cell": {
     "cellMetadata": {
      "byteLimit": 2048000,
      "rowLimit": 10000
     },
     "inputWidgets": {},
     "nuid": "69817c19-3edc-410d-b5cf-3d4d916629e5",
     "showTitle": false,
     "title": ""
    }
   },
   "outputs": [
    {
     "output_type": "stream",
     "name": "stdout",
     "output_type": "stream",
     "text": [
      "--2024-06-15 15:01:36--  https://proai-datasets.s3.eu-west-3.amazonaws.com/wikipedia.csv\r\nResolving proai-datasets.s3.eu-west-3.amazonaws.com (proai-datasets.s3.eu-west-3.amazonaws.com)... 3.5.225.18, 3.5.224.12\r\nConnecting to proai-datasets.s3.eu-west-3.amazonaws.com (proai-datasets.s3.eu-west-3.amazonaws.com)|3.5.225.18|:443... connected.\r\nHTTP request sent, awaiting response... 200 OK\r\nLength: 1003477941 (957M) [text/csv]\r\nSaving to: ‘wikipedia.csv.1’\r\n\r\n\rwikipedia.csv.1       0%[                    ]       0  --.-KB/s               \rwikipedia.csv.1       0%[                    ]  60.22K   227KB/s               \rwikipedia.csv.1       0%[                    ] 121.74K   229KB/s               \rwikipedia.csv.1       0%[                    ] 183.27K   230KB/s               \rwikipedia.csv.1       0%[                    ] 263.16K   247KB/s               \rwikipedia.csv.1       0%[                    ] 549.52K   413KB/s               \rwikipedia.csv.1       0%[                    ]   1.48M   944KB/s               \rwikipedia.csv.1       0%[                    ]   4.01M  2.15MB/s               \rwikipedia.csv.1       0%[                    ]   6.55M  3.07MB/s               \rwikipedia.csv.1       0%[                    ]   9.08M  3.79MB/s               \rwikipedia.csv.1       1%[                    ]  11.62M  4.36MB/s               \rwikipedia.csv.1       1%[                    ]  14.15M  4.83MB/s               \rwikipedia.csv.1       1%[                    ]  16.68M  5.22MB/s    eta 3m 0s  \rwikipedia.csv.1       2%[                    ]  19.24M  5.55MB/s    eta 3m 0s  \rwikipedia.csv.1       2%[                    ]  21.76M  5.83MB/s    eta 3m 0s  \rwikipedia.csv.1       2%[                    ]  24.76M  6.20MB/s    eta 3m 0s  \rwikipedia.csv.1       2%[                    ]  27.77M  6.52MB/s    eta 2m 23s \rwikipedia.csv.1       3%[                    ]  30.83M  6.81MB/s    eta 2m 23s \rwikipedia.csv.1       3%[                    ]  33.98M  7.09MB/s    eta 2m 23s \rwikipedia.csv.1       3%[                    ]  36.91M  7.30MB/s    eta 2m 23s \rwikipedia.csv.1       4%[                    ]  39.98M  7.89MB/s    eta 2m 2s  \rwikipedia.csv.1       4%[                    ]  43.16M  8.97MB/s    eta 2m 2s  \rwikipedia.csv.1       4%[                    ]  45.87M  9.51MB/s    eta 2m 2s  \rwikipedia.csv.1       5%[>                   ]  49.08M  10.1MB/s    eta 2m 2s  \rwikipedia.csv.1       5%[>                   ]  52.29M  10.6MB/s    eta 1m 51s \rwikipedia.csv.1       5%[>                   ]  55.44M  10.8MB/s    eta 1m 51s \rwikipedia.csv.1       6%[>                   ]  58.69M  11.0MB/s    eta 1m 51s \rwikipedia.csv.1       6%[>                   ]  61.96M  10.9MB/s    eta 1m 51s \rwikipedia.csv.1       6%[>                   ]  65.08M  11.2MB/s    eta 1m 42s \rwikipedia.csv.1       7%[>                   ]  68.37M  11.4MB/s    eta 1m 42s \rwikipedia.csv.1       7%[>                   ]  71.63M  11.6MB/s    eta 1m 42s \rwikipedia.csv.1       7%[>                   ]  74.76M  11.8MB/s    eta 1m 42s \rwikipedia.csv.1       8%[>                   ]  78.04M  11.8MB/s    eta 96s    \rwikipedia.csv.1       8%[>                   ]  81.33M  11.9MB/s    eta 96s    \rwikipedia.csv.1       8%[>                   ]  84.65M  11.7MB/s    eta 96s    \rwikipedia.csv.1       9%[>                   ]  87.96M  12.0MB/s    eta 96s    \rwikipedia.csv.1       9%[>                   ]  91.23M  11.7MB/s    eta 91s    \rwikipedia.csv.1       9%[>                   ]  94.54M  11.8MB/s    eta 91s    \rwikipedia.csv.1      10%[=>                  ]  97.85M  12.2MB/s    eta 91s    \rwikipedia.csv.1      10%[=>                  ] 101.15M  12.0MB/s    eta 91s    \rwikipedia.csv.1      10%[=>                  ] 104.49M  12.3MB/s    eta 87s    \rwikipedia.csv.1      11%[=>                  ] 107.91M  12.3MB/s    eta 87s    \rwikipedia.csv.1      11%[=>                  ] 111.37M  12.1MB/s    eta 87s    \rwikipedia.csv.1      11%[=>                  ] 114.80M  12.5MB/s    eta 87s    \rwikipedia.csv.1      12%[=>                  ] 118.26M  12.5MB/s    eta 83s    \rwikipedia.csv.1      12%[=>                  ] 121.69M  12.4MB/s    eta 83s    \rwikipedia.csv.1      13%[=>                  ] 125.13M  12.6MB/s    eta 83s    \rwikipedia.csv.1      13%[=>                  ] 128.58M  12.7MB/s    eta 83s    \rwikipedia.csv.1      13%[=>                  ] 132.02M  12.5MB/s    eta 80s    \rwikipedia.csv.1      14%[=>                  ] 135.48M  12.6MB/s    eta 80s    \rwikipedia.csv.1      14%[=>                  ] 138.93M  12.8MB/s    eta 80s    \rwikipedia.csv.1      14%[=>                  ] 142.43M  12.6MB/s    eta 80s    \rwikipedia.csv.1      15%[==>                 ] 145.94M  12.9MB/s    eta 77s    \rwikipedia.csv.1      15%[==>                 ] 149.44M  12.7MB/s    eta 77s    \rwikipedia.csv.1      15%[==>                 ] 152.98M  12.7MB/s    eta 77s    \rwikipedia.csv.1      16%[==>                 ] 156.55M  12.7MB/s    eta 77s    \rwikipedia.csv.1      16%[==>                 ] 159.98M  13.0MB/s    eta 74s    \rwikipedia.csv.1      16%[==>                 ] 161.96M  13.1MB/s    eta 74s    \rwikipedia.csv.1      17%[==>                 ] 165.40M  12.9MB/s    eta 74s    \rwikipedia.csv.1      17%[==>                 ] 169.01M  12.9MB/s    eta 74s    \rwikipedia.csv.1      18%[==>                 ] 172.63M  13.2MB/s    eta 72s    \rwikipedia.csv.1      18%[==>                 ] 176.24M  12.9MB/s    eta 72s    \rwikipedia.csv.1      18%[==>                 ] 179.85M  13.3MB/s    eta 72s    \rwikipedia.csv.1      19%[==>                 ] 183.48M  13.1MB/s    eta 72s    \rwikipedia.csv.1      19%[==>                 ] 187.12M  13.1MB/s    eta 70s    \rwikipedia.csv.1      19%[==>                 ] 190.80M  13.5MB/s    eta 70s    \rwikipedia.csv.1      20%[===>                ] 194.49M  13.5MB/s    eta 70s    \rwikipedia.csv.1      20%[===>                ] 198.16M  13.3MB/s    eta 70s    \rwikipedia.csv.1      21%[===>                ] 201.87M  13.3MB/s    eta 67s    \rwikipedia.csv.1      21%[===>                ] 205.58M  13.4MB/s    eta 67s    \rwikipedia.csv.1      21%[===>                ] 209.32M  13.4MB/s    eta 67s    \rwikipedia.csv.1      22%[===>                ] 213.12M  13.7MB/s    eta 67s    \rwikipedia.csv.1      22%[===>                ] 216.98M  13.6MB/s    eta 65s    \rwikipedia.csv.1      23%[===>                ] 220.82M  13.9MB/s    eta 65s    \rwikipedia.csv.1      23%[===>                ] 224.68M  13.8MB/s    eta 65s    \rwikipedia.csv.1      23%[===>                ] 228.49M  14.0MB/s    eta 65s    \rwikipedia.csv.1      24%[===>                ] 232.35M  13.9MB/s    eta 63s    \rwikipedia.csv.1      24%[===>                ] 236.19M  13.9MB/s    eta 63s    \rwikipedia.csv.1      25%[====>               ] 240.05M  14.2MB/s    eta 63s    \rwikipedia.csv.1      25%[====>               ] 243.91M  14.0MB/s    eta 63s    \rwikipedia.csv.1      25%[====>               ] 247.79M  14.3MB/s    eta 61s    \rwikipedia.csv.1      26%[====>               ] 251.74M  14.4MB/s    eta 61s    \rwikipedia.csv.1      26%[====>               ] 255.55M  14.2MB/s    eta 61s    \rwikipedia.csv.1      27%[====>               ] 259.54M  14.5MB/s    eta 61s    \rwikipedia.csv.1      27%[====>               ] 263.54M  14.2MB/s    eta 58s    \rwikipedia.csv.1      27%[====>               ] 267.52M  14.6MB/s    eta 58s    \rwikipedia.csv.1      28%[====>               ] 271.51M  14.4MB/s    eta 58s    \rwikipedia.csv.1      28%[====>               ] 275.33M  14.9MB/s    eta 58s    \rwikipedia.csv.1      29%[====>               ] 277.60M  14.6MB/s    eta 58s    \rwikipedia.csv.1      29%[====>               ] 281.49M  14.6MB/s    eta 56s    \rwikipedia.csv.1      29%[====>               ] 285.48M  14.6MB/s    eta 56s    \rwikipedia.csv.1      30%[=====>              ] 289.51M  14.7MB/s    eta 56s    \rwikipedia.csv.1      30%[=====>              ] 293.52M  14.6MB/s    eta 56s    \rwikipedia.csv.1      31%[=====>              ] 297.58M  14.8MB/s    eta 54s    \rwikipedia.csv.1      31%[=====>              ] 301.63M  14.7MB/s    eta 54s    \rwikipedia.csv.1      31%[=====>              ] 305.69M  15.0MB/s    eta 54s    \rwikipedia.csv.1      32%[=====>              ] 309.76M  14.9MB/s    eta 54s    \rwikipedia.csv.1      32%[=====>              ] 313.80M  14.8MB/s    eta 52s    \rwikipedia.csv.1      33%[=====>              ] 317.55M  15.3MB/s    eta 52s    \rwikipedia.csv.1      33%[=====>              ] 319.96M  15.0MB/s    eta 52s    \rwikipedia.csv.1      33%[=====>              ] 324.02M  15.2MB/s    eta 52s    \rwikipedia.csv.1      34%[=====>              ] 328.10M  15.4MB/s    eta 52s    \rwikipedia.csv.1      34%[=====>              ] 330.19M  15.0MB/s    eta 51s    \rwikipedia.csv.1      34%[=====>              ] 334.24M  15.2MB/s    eta 51s    \rwikipedia.csv.1      35%[======>             ] 338.35M  15.1MB/s    eta 51s    \rwikipedia.csv.1      35%[======>             ] 342.41M  15.6MB/s    eta 51s    \rwikipedia.csv.1      36%[======>             ] 344.55M  15.2MB/s    eta 51s    \rwikipedia.csv.1      36%[======>             ] 348.69M  15.1MB/s    eta 49s    \rwikipedia.csv.1      36%[======>             ] 352.85M  15.2MB/s    eta 49s    \rwikipedia.csv.1      37%[======>             ] 357.01M  15.4MB/s    eta 49s    \rwikipedia.csv.1      37%[======>             ] 361.16M  15.3MB/s    eta 49s    \rwikipedia.csv.1      38%[======>             ] 365.32M  15.5MB/s    eta 47s    \rwikipedia.csv.1      38%[======>             ] 369.46M  15.7MB/s    eta 47s    \rwikipedia.csv.1      38%[======>             ] 371.60M  15.3MB/s    eta 47s    \rwikipedia.csv.1      39%[======>             ] 375.77M  15.5MB/s    eta 47s    \rwikipedia.csv.1      39%[======>             ] 380.01M  15.5MB/s    eta 47s    \rwikipedia.csv.1      40%[=======>            ] 384.02M  15.3MB/s    eta 45s    \rwikipedia.csv.1      40%[=======>            ] 388.29M  15.4MB/s    eta 45s    \rwikipedia.csv.1      41%[=======>            ] 392.55M  15.7MB/s    eta 45s    \rwikipedia.csv.1      41%[=======>            ] 396.82M  15.4MB/s    eta 45s    \rwikipedia.csv.1      41%[=======>            ] 401.04M  16.0MB/s    eta 43s    \rwikipedia.csv.1      42%[=======>            ] 403.33M  15.8MB/s    eta 43s    \rwikipedia.csv.1      42%[=======>            ] 407.57M  15.6MB/s    eta 43s    \rwikipedia.csv.1      43%[=======>            ] 412.01M  15.9MB/s    eta 43s    \rwikipedia.csv.1      43%[=======>            ] 415.93M  15.7MB/s    eta 42s    \rwikipedia.csv.1      43%[=======>            ] 420.35M  15.7MB/s    eta 42s    \rwikipedia.csv.1      44%[=======>            ] 424.73M  16.0MB/s    eta 42s    \rwikipedia.csv.1      44%[=======>            ] 429.23M  15.9MB/s    eta 42s    \rwikipedia.csv.1      45%[========>           ] 433.40M  16.1MB/s    eta 40s    \rwikipedia.csv.1      45%[========>           ] 437.91M  16.0MB/s    eta 40s    \rwikipedia.csv.1      46%[========>           ] 442.44M  16.3MB/s    eta 40s    \rwikipedia.csv.1      46%[========>           ] 446.99M  16.3MB/s    eta 40s    \rwikipedia.csv.1      47%[========>           ] 451.55M  16.2MB/s    eta 38s    \rwikipedia.csv.1      47%[========>           ] 456.13M  16.5MB/s    eta 38s    \rwikipedia.csv.1      48%[========>           ] 460.69M  16.5MB/s    eta 38s    \rwikipedia.csv.1      48%[========>           ] 465.27M  16.4MB/s    eta 38s    \rwikipedia.csv.1      49%[========>           ] 469.94M  16.7MB/s    eta 37s    \rwikipedia.csv.1      49%[========>           ] 474.65M  17.0MB/s    eta 37s    \rwikipedia.csv.1      50%[=========>          ] 479.38M  16.9MB/s    eta 37s    \rwikipedia.csv.1      50%[=========>          ] 483.90M  16.8MB/s    eta 37s    \rwikipedia.csv.1      51%[=========>          ] 488.65M  17.2MB/s    eta 35s    \rwikipedia.csv.1      51%[=========>          ] 493.43M  17.0MB/s    eta 35s    \rwikipedia.csv.1      52%[=========>          ] 498.19M  17.2MB/s    eta 35s    \rwikipedia.csv.1      52%[=========>          ] 502.98M  17.2MB/s    eta 35s    \rwikipedia.csv.1      53%[=========>          ] 507.74M  17.4MB/s    eta 33s    \rwikipedia.csv.1      53%[=========>          ] 512.52M  17.3MB/s    eta 33s    \rwikipedia.csv.1      54%[=========>          ] 517.08M  17.8MB/s    eta 33s    \rwikipedia.csv.1      54%[=========>          ] 519.60M  17.4MB/s    eta 33s    \rwikipedia.csv.1      54%[=========>          ] 524.05M  18.0MB/s    eta 33s    \rwikipedia.csv.1      55%[==========>         ] 526.53M  17.5MB/s    eta 31s    \rwikipedia.csv.1      55%[==========>         ] 531.40M  17.4MB/s    eta 31s    \rwikipedia.csv.1      55%[==========>         ] 535.46M  17.9MB/s    eta 31s    \rwikipedia.csv.1      56%[==========>         ] 537.83M  17.4MB/s    eta 31s    \rwikipedia.csv.1      56%[==========>         ] 542.71M  17.3MB/s    eta 31s    \rwikipedia.csv.1      57%[==========>         ] 547.38M  18.0MB/s    eta 30s    \rwikipedia.csv.1      57%[==========>         ] 549.27M  17.4MB/s    eta 30s    \rwikipedia.csv.1      57%[==========>         ] 554.15M  17.3MB/s    eta 30s    \rwikipedia.csv.1      58%[==========>         ] 559.02M  17.6MB/s    eta 30s    \rwikipedia.csv.1      58%[==========>         ] 563.90M  17.6MB/s    eta 28s    \rwikipedia.csv.1      59%[==========>         ] 568.80M  17.3MB/s    eta 28s    \rwikipedia.csv.1      59%[==========>         ] 573.57M  17.6MB/s    eta 28s    \rwikipedia.csv.1      60%[===========>        ] 577.85M  17.4MB/s    eta 28s    \rwikipedia.csv.1      60%[===========>        ] 582.69M  17.6MB/s    eta 27s    \rwikipedia.csv.1      61%[===========>        ] 587.41M  17.5MB/s    eta 27s    \rwikipedia.csv.1      61%[===========>        ] 592.37M  17.3MB/s    eta 27s    \rwikipedia.csv.1      62%[===========>        ] 597.19M  17.6MB/s    eta 27s    \rwikipedia.csv.1      62%[===========>        ] 601.87M  17.4MB/s    eta 25s    \rwikipedia.csv.1      63%[===========>        ] 606.80M  17.8MB/s    eta 25s    \rwikipedia.csv.1      63%[===========>        ] 611.65M  17.9MB/s    eta 25s    \rwikipedia.csv.1      64%[===========>        ] 614.62M  18.2MB/s    eta 25s    \rwikipedia.csv.1      64%[===========>        ] 619.32M  17.9MB/s    eta 25s    \rwikipedia.csv.1      65%[============>       ] 624.33M  18.2MB/s    eta 23s    \rwikipedia.csv.1      65%[============>       ] 629.33M  18.0MB/s    eta 23s    \rwikipedia.csv.1      66%[============>       ] 634.15M  17.8MB/s    eta 23s    \rwikipedia.csv.1      66%[============>       ] 639.07M  18.2MB/s    eta 23s    \rwikipedia.csv.1      67%[============>       ] 643.94M  18.1MB/s    eta 22s    \rwikipedia.csv.1      67%[============>       ] 648.93M  18.4MB/s    eta 22s    \rwikipedia.csv.1      68%[============>       ] 653.74M  18.2MB/s    eta 22s    \rwikipedia.csv.1      68%[============>       ] 658.75M  18.8MB/s    eta 22s    \rwikipedia.csv.1      69%[============>       ] 661.31M  18.3MB/s    eta 22s    \rwikipedia.csv.1      69%[============>       ] 666.17M  18.9MB/s    eta 20s    \rwikipedia.csv.1      69%[============>       ] 668.77M  18.2MB/s    eta 20s    \rwikipedia.csv.1      70%[=============>      ] 673.33M  18.2MB/s    eta 20s    \rwikipedia.csv.1      70%[=============>      ] 678.49M  18.5MB/s    eta 20s    \rwikipedia.csv.1      71%[=============>      ] 683.62M  18.4MB/s    eta 19s    \rwikipedia.csv.1      71%[=============>      ] 688.77M  18.6MB/s    eta 19s    \rwikipedia.csv.1      72%[=============>      ] 692.96M  18.6MB/s    eta 19s    \rwikipedia.csv.1      72%[=============>      ] 695.80M  18.2MB/s    eta 19s    \rwikipedia.csv.1      73%[=============>      ] 700.51M  18.3MB/s    eta 19s    \rwikipedia.csv.1      73%[=============>      ] 705.30M  18.4MB/s    eta 17s    \rwikipedia.csv.1      74%[=============>      ] 708.51M  18.6MB/s    eta 17s    \rwikipedia.csv.1      74%[=============>      ] 712.83M  18.2MB/s    eta 17s    \rwikipedia.csv.1      74%[=============>      ] 717.71M  18.4MB/s    eta 17s    \rwikipedia.csv.1      75%[==============>     ] 720.83M  18.6MB/s    eta 17s    \rwikipedia.csv.1      75%[==============>     ] 725.49M  18.5MB/s    eta 16s    \rwikipedia.csv.1      76%[==============>     ] 728.63M  18.3MB/s    eta 16s    \rwikipedia.csv.1      76%[==============>     ] 733.49M  18.7MB/s    eta 16s    \rwikipedia.csv.1      77%[==============>     ] 737.77M  18.6MB/s    eta 16s    \rwikipedia.csv.1      77%[==============>     ] 741.49M  18.9MB/s    eta 16s    \rwikipedia.csv.1      77%[==============>     ] 745.98M  19.0MB/s    eta 14s    \rwikipedia.csv.1      78%[==============>     ] 749.30M  18.6MB/s    eta 14s    \rwikipedia.csv.1      78%[==============>     ] 753.96M  19.1MB/s    eta 14s    \rwikipedia.csv.1      79%[==============>     ] 757.19M  19.2MB/s    eta 14s    \rwikipedia.csv.1      79%[==============>     ] 762.15M  19.2MB/s    eta 14s    \rwikipedia.csv.1      79%[==============>     ] 764.83M  18.7MB/s    eta 13s    \rwikipedia.csv.1      80%[===============>    ] 770.08M  19.4MB/s    eta 13s    \rwikipedia.csv.1      80%[===============>    ] 772.98M  19.0MB/s    eta 13s    \rwikipedia.csv.1      81%[===============>    ] 777.29M  18.8MB/s    eta 13s    \rwikipedia.csv.1      81%[===============>    ] 781.97M  19.4MB/s    eta 13s    \rwikipedia.csv.1      82%[===============>    ] 785.43M  19.1MB/s    eta 11s    \rwikipedia.csv.1      82%[===============>    ] 790.38M  19.3MB/s    eta 11s    \rwikipedia.csv.1      82%[===============>    ] 793.43M  19.1MB/s    eta 11s    \rwikipedia.csv.1      83%[===============>    ] 798.46M  19.6MB/s    eta 11s    \rwikipedia.csv.1      83%[===============>    ] 801.66M  19.1MB/s    eta 11s    \rwikipedia.csv.1      84%[===============>    ] 806.04M  19.0MB/s    eta 10s    \rwikipedia.csv.1      84%[===============>    ] 810.40M  19.3MB/s    eta 10s    \rwikipedia.csv.1      85%[================>   ] 814.23M  19.4MB/s    eta 10s    \rwikipedia.csv.1      85%[================>   ] 818.74M  19.3MB/s    eta 10s    \rwikipedia.csv.1      85%[================>   ] 822.40M  19.2MB/s    eta 10s    \rwikipedia.csv.1      86%[================>   ] 827.41M  19.5MB/s    eta 9s     \rwikipedia.csv.1      86%[================>   ] 830.91M  19.6MB/s    eta 9s     \rwikipedia.csv.1      87%[================>   ] 835.71M  19.8MB/s    eta 9s     \rwikipedia.csv.1      87%[================>   ] 839.51M  19.6MB/s    eta 9s     \rwikipedia.csv.1      88%[================>   ] 843.83M  19.8MB/s    eta 9s     \rwikipedia.csv.1      88%[================>   ] 847.85M  20.0MB/s    eta 7s     \rwikipedia.csv.1      89%[================>   ] 852.18M  20.0MB/s    eta 7s     \rwikipedia.csv.1      89%[================>   ] 856.65M  19.9MB/s    eta 7s     \rwikipedia.csv.1      89%[================>   ] 859.77M  19.7MB/s    eta 7s     \rwikipedia.csv.1      90%[=================>  ] 864.91M  20.2MB/s    eta 7s     \rwikipedia.csv.1      90%[=================>  ] 868.26M  20.0MB/s    eta 6s     \rwikipedia.csv.1      91%[=================>  ] 873.01M  20.0MB/s    eta 6s     \rwikipedia.csv.1      91%[=================>  ] 877.07M  20.0MB/s    eta 6s     \rwikipedia.csv.1      92%[=================>  ] 881.32M  20.0MB/s    eta 6s     \rwikipedia.csv.1      92%[=================>  ] 886.04M  20.3MB/s    eta 6s     \rwikipedia.csv.1      92%[=================>  ] 889.82M  20.2MB/s    eta 4s     \rwikipedia.csv.1      93%[=================>  ] 894.23M  20.1MB/s    eta 4s     \rwikipedia.csv.1      93%[=================>  ] 898.01M  20.1MB/s    eta 4s     \rwikipedia.csv.1      94%[=================>  ] 902.51M  20.3MB/s    eta 4s     \rwikipedia.csv.1      94%[=================>  ] 906.15M  20.2MB/s    eta 4s     \rwikipedia.csv.1      95%[==================> ] 911.12M  20.3MB/s    eta 3s     \rwikipedia.csv.1      95%[==================> ] 914.62M  20.2MB/s    eta 3s     \rwikipedia.csv.1      96%[==================> ] 919.43M  20.5MB/s    eta 3s     \rwikipedia.csv.1      96%[==================> ] 922.69M  20.1MB/s    eta 3s     \rwikipedia.csv.1      96%[==================> ] 927.52M  20.2MB/s    eta 3s     \rwikipedia.csv.1      97%[==================> ] 931.02M  20.2MB/s    eta 2s     \rwikipedia.csv.1      97%[==================> ] 935.51M  20.4MB/s    eta 2s     \rwikipedia.csv.1      98%[==================> ] 939.01M  20.3MB/s    eta 2s     \rwikipedia.csv.1      98%[==================> ] 943.58M  20.4MB/s    eta 2s     \rwikipedia.csv.1      98%[==================> ] 947.27M  20.3MB/s    eta 2s     \rwikipedia.csv.1      99%[==================> ] 951.74M  20.2MB/s    eta 0s     \rwikipedia.csv.1      99%[==================> ] 956.40M  20.3MB/s    eta 0s     \rwikipedia.csv.1     100%[===================>] 956.99M  20.4MB/s    in 61s     \r\n\r\n2024-06-15 15:02:38 (15.7 MB/s) - ‘wikipedia.csv.1’ saved [1003477941/1003477941]\r\n\r\n"
     ]
    }
   ],
   "source": [
    "!wget https://proai-datasets.s3.eu-west-3.amazonaws.com/wikipedia.csv\n",
    "from pyspark.sql import SparkSession"
   ]
  },
  {
   "cell_type": "code",
   "execution_count": 0,
   "metadata": {
    "application/vnd.databricks.v1+cell": {
     "cellMetadata": {
      "byteLimit": 2048000,
      "rowLimit": 10000
     },
     "inputWidgets": {},
     "nuid": "d6430a4c-9a95-477c-86c3-eddd1f4a179b",
     "showTitle": false,
     "title": ""
    }
   },
   "outputs": [],
   "source": [
    "# Configurazione della sessione Spark con memoria aumentata e G1GC\n",
    "spark = SparkSession.builder \\\n",
    "    .appName(\"TextClassification\") \\\n",
    "    .config(\"spark.executor.memory\", \"4g\") \\\n",
    "    .config(\"spark.driver.memory\", \"4g\") \\\n",
    "    .config(\"spark.executor.memoryOverhead\", \"1g\") \\\n",
    "    .config(\"spark.executor.extraJavaOptions\", \"-XX:+UseG1GC\") \\\n",
    "    .config(\"spark.driver.extraJavaOptions\", \"-XX:+UseG1GC\") \\\n",
    "    .getOrCreate()"
   ]
  },
  {
   "cell_type": "code",
   "execution_count": 0,
   "metadata": {
    "application/vnd.databricks.v1+cell": {
     "cellMetadata": {
      "byteLimit": 2048000,
      "rowLimit": 10000
     },
     "inputWidgets": {},
     "nuid": "63a159fb-a897-4f1e-bb5f-e3634a6384fe",
     "showTitle": false,
     "title": ""
    }
   },
   "outputs": [
    {
     "output_type": "stream",
     "name": "stdout",
     "output_type": "stream",
     "text": [
      "\u001B[43mNote: you may need to restart the kernel using dbutils.library.restartPython() to use updated packages.\u001B[0m\nCollecting wordcloud\n  Using cached wordcloud-1.9.3-cp310-cp310-manylinux_2_17_x86_64.manylinux2014_x86_64.whl (511 kB)\nCollecting nltk\n  Using cached nltk-3.8.1-py3-none-any.whl (1.5 MB)\nCollecting spacy\n  Using cached spacy-3.7.5-cp310-cp310-manylinux_2_17_x86_64.manylinux2014_x86_64.whl (6.6 MB)\nRequirement already satisfied: numpy>=1.6.1 in /databricks/python3/lib/python3.10/site-packages (from wordcloud) (1.23.5)\nRequirement already satisfied: pillow in /databricks/python3/lib/python3.10/site-packages (from wordcloud) (9.4.0)\nRequirement already satisfied: matplotlib in /databricks/python3/lib/python3.10/site-packages (from wordcloud) (3.7.0)\nRequirement already satisfied: joblib in /databricks/python3/lib/python3.10/site-packages (from nltk) (1.2.0)\nCollecting regex>=2021.8.3\n  Using cached regex-2024.5.15-cp310-cp310-manylinux_2_17_x86_64.manylinux2014_x86_64.whl (775 kB)\nRequirement already satisfied: click in /databricks/python3/lib/python3.10/site-packages (from nltk) (8.0.4)\nCollecting tqdm\n  Using cached tqdm-4.66.4-py3-none-any.whl (78 kB)\nRequirement already satisfied: pydantic!=1.8,!=1.8.1,<3.0.0,>=1.7.4 in /databricks/python3/lib/python3.10/site-packages (from spacy) (1.10.6)\nCollecting catalogue<2.1.0,>=2.0.6\n  Using cached catalogue-2.0.10-py3-none-any.whl (17 kB)\nCollecting typer<1.0.0,>=0.3.0\n  Using cached typer-0.12.3-py3-none-any.whl (47 kB)\nCollecting preshed<3.1.0,>=3.0.2\n  Using cached preshed-3.0.9-cp310-cp310-manylinux_2_5_x86_64.manylinux1_x86_64.manylinux_2_17_x86_64.manylinux2014_x86_64.whl (156 kB)\nCollecting srsly<3.0.0,>=2.4.3\n  Using cached srsly-2.4.8-cp310-cp310-manylinux_2_17_x86_64.manylinux2014_x86_64.whl (493 kB)\nCollecting thinc<8.3.0,>=8.2.2\n  Using cached thinc-8.2.4-cp310-cp310-manylinux_2_17_x86_64.manylinux2014_x86_64.whl (922 kB)\nCollecting spacy-loggers<2.0.0,>=1.0.0\n  Using cached spacy_loggers-1.0.5-py3-none-any.whl (22 kB)\nCollecting murmurhash<1.1.0,>=0.28.0\n  Using cached murmurhash-1.0.10-cp310-cp310-manylinux_2_5_x86_64.manylinux1_x86_64.manylinux_2_17_x86_64.manylinux2014_x86_64.whl (29 kB)\nRequirement already satisfied: packaging>=20.0 in /databricks/python3/lib/python3.10/site-packages (from spacy) (23.2)\nRequirement already satisfied: jinja2 in /databricks/python3/lib/python3.10/site-packages (from spacy) (3.1.2)\nRequirement already satisfied: requests<3.0.0,>=2.13.0 in /databricks/python3/lib/python3.10/site-packages (from spacy) (2.28.1)\nCollecting cymem<2.1.0,>=2.0.2\n  Using cached cymem-2.0.8-cp310-cp310-manylinux_2_17_x86_64.manylinux2014_x86_64.whl (46 kB)\nRequirement already satisfied: setuptools in /databricks/python3/lib/python3.10/site-packages (from spacy) (65.6.3)\nCollecting langcodes<4.0.0,>=3.2.0\n  Using cached langcodes-3.4.0-py3-none-any.whl (182 kB)\nCollecting weasel<0.5.0,>=0.1.0\n  Using cached weasel-0.4.1-py3-none-any.whl (50 kB)\nCollecting spacy-legacy<3.1.0,>=3.0.11\n  Using cached spacy_legacy-3.0.12-py2.py3-none-any.whl (29 kB)\nCollecting wasabi<1.2.0,>=0.9.1\n  Using cached wasabi-1.1.3-py3-none-any.whl (27 kB)\nCollecting language-data>=1.2\n  Using cached language_data-1.2.0-py3-none-any.whl (5.4 MB)\nRequirement already satisfied: typing-extensions>=4.2.0 in /databricks/python3/lib/python3.10/site-packages (from pydantic!=1.8,!=1.8.1,<3.0.0,>=1.7.4->spacy) (4.4.0)\nRequirement already satisfied: charset-normalizer<3,>=2 in /databricks/python3/lib/python3.10/site-packages (from requests<3.0.0,>=2.13.0->spacy) (2.0.4)\nRequirement already satisfied: certifi>=2017.4.17 in /databricks/python3/lib/python3.10/site-packages (from requests<3.0.0,>=2.13.0->spacy) (2022.12.7)\nRequirement already satisfied: idna<4,>=2.5 in /databricks/python3/lib/python3.10/site-packages (from requests<3.0.0,>=2.13.0->spacy) (3.4)\nRequirement already satisfied: urllib3<1.27,>=1.21.1 in /databricks/python3/lib/python3.10/site-packages (from requests<3.0.0,>=2.13.0->spacy) (1.26.14)\nCollecting confection<1.0.0,>=0.0.1\n  Using cached confection-0.1.5-py3-none-any.whl (35 kB)\nCollecting blis<0.8.0,>=0.7.8\n  Using cached blis-0.7.11-cp310-cp310-manylinux_2_17_x86_64.manylinux2014_x86_64.whl (10.2 MB)\nCollecting rich>=10.11.0\n  Using cached rich-13.7.1-py3-none-any.whl (240 kB)\nCollecting shellingham>=1.3.0\n  Using cached shellingham-1.5.4-py2.py3-none-any.whl (9.8 kB)\nCollecting smart-open<8.0.0,>=5.2.1\n  Using cached smart_open-7.0.4-py3-none-any.whl (61 kB)\nCollecting cloudpathlib<1.0.0,>=0.7.0\n  Using cached cloudpathlib-0.18.1-py3-none-any.whl (47 kB)\nRequirement already satisfied: MarkupSafe>=2.0 in /databricks/python3/lib/python3.10/site-packages (from jinja2->spacy) (2.1.1)\nRequirement already satisfied: pyparsing>=2.3.1 in /databricks/python3/lib/python3.10/site-packages (from matplotlib->wordcloud) (3.0.9)\nRequirement already satisfied: cycler>=0.10 in /databricks/python3/lib/python3.10/site-packages (from matplotlib->wordcloud) (0.11.0)\nRequirement already satisfied: contourpy>=1.0.1 in /databricks/python3/lib/python3.10/site-packages (from matplotlib->wordcloud) (1.0.5)\nRequirement already satisfied: kiwisolver>=1.0.1 in /databricks/python3/lib/python3.10/site-packages (from matplotlib->wordcloud) (1.4.4)\nRequirement already satisfied: fonttools>=4.22.0 in /databricks/python3/lib/python3.10/site-packages (from matplotlib->wordcloud) (4.25.0)\nRequirement already satisfied: python-dateutil>=2.7 in /databricks/python3/lib/python3.10/site-packages (from matplotlib->wordcloud) (2.8.2)\nCollecting marisa-trie>=0.7.7\n  Using cached marisa_trie-1.2.0-cp310-cp310-manylinux_2_17_x86_64.manylinux2014_x86_64.whl (1.3 MB)\nRequirement already satisfied: six>=1.5 in /usr/lib/python3/dist-packages (from python-dateutil>=2.7->matplotlib->wordcloud) (1.16.0)\nCollecting pygments<3.0.0,>=2.13.0\n  Using cached pygments-2.18.0-py3-none-any.whl (1.2 MB)\nCollecting markdown-it-py>=2.2.0\n  Using cached markdown_it_py-3.0.0-py3-none-any.whl (87 kB)\nCollecting wrapt\n  Using cached wrapt-1.16.0-cp310-cp310-manylinux_2_5_x86_64.manylinux1_x86_64.manylinux_2_17_x86_64.manylinux2014_x86_64.whl (80 kB)\nCollecting mdurl~=0.1\n  Using cached mdurl-0.1.2-py3-none-any.whl (10.0 kB)\nInstalling collected packages: cymem, wrapt, wasabi, tqdm, spacy-loggers, spacy-legacy, shellingham, regex, pygments, murmurhash, mdurl, marisa-trie, cloudpathlib, catalogue, blis, srsly, smart-open, preshed, nltk, markdown-it-py, language-data, wordcloud, rich, langcodes, confection, typer, thinc, weasel, spacy\n  Attempting uninstall: pygments\n    Found existing installation: Pygments 2.11.2\n    Not uninstalling pygments at /databricks/python3/lib/python3.10/site-packages, outside environment /local_disk0/.ephemeral_nfs/envs/pythonEnv-3e04bda3-9099-49c3-9747-aab1c0a3ace4\n    Can't uninstall 'Pygments'. No files were found to uninstall.\nSuccessfully installed blis-0.7.11 catalogue-2.0.10 cloudpathlib-0.18.1 confection-0.1.5 cymem-2.0.8 langcodes-3.4.0 language-data-1.2.0 marisa-trie-1.2.0 markdown-it-py-3.0.0 mdurl-0.1.2 murmurhash-1.0.10 nltk-3.8.1 preshed-3.0.9 pygments-2.18.0 regex-2024.5.15 rich-13.7.1 shellingham-1.5.4 smart-open-7.0.4 spacy-3.7.5 spacy-legacy-3.0.12 spacy-loggers-1.0.5 srsly-2.4.8 thinc-8.2.4 tqdm-4.66.4 typer-0.12.3 wasabi-1.1.3 weasel-0.4.1 wordcloud-1.9.3 wrapt-1.16.0\n\u001B[43mNote: you may need to restart the kernel using dbutils.library.restartPython() to use updated packages.\u001B[0m\n"
     ]
    }
   ],
   "source": [
    "# librerie necessarie per l'elaborazione del linguaggio naturale (NLP)\n",
    "!pip install wordcloud nltk spacy"
   ]
  },
  {
   "cell_type": "code",
   "execution_count": 0,
   "metadata": {
    "application/vnd.databricks.v1+cell": {
     "cellMetadata": {
      "byteLimit": 2048000,
      "rowLimit": 10000
     },
     "inputWidgets": {},
     "nuid": "a09f2b15-515a-40b4-ae59-52a4ec5f38ba",
     "showTitle": false,
     "title": ""
    }
   },
   "outputs": [
    {
     "output_type": "stream",
     "name": "stdout",
     "output_type": "stream",
     "text": [
      "Collecting en-core-web-sm==3.7.1\r\n  Using cached https://github.com/explosion/spacy-models/releases/download/en_core_web_sm-3.7.1/en_core_web_sm-3.7.1-py3-none-any.whl (12.8 MB)\r\nRequirement already satisfied: spacy<3.8.0,>=3.7.2 in /local_disk0/.ephemeral_nfs/envs/pythonEnv-3e04bda3-9099-49c3-9747-aab1c0a3ace4/lib/python3.10/site-packages (from en-core-web-sm==3.7.1) (3.7.5)\r\nRequirement already satisfied: spacy-loggers<2.0.0,>=1.0.0 in /local_disk0/.ephemeral_nfs/envs/pythonEnv-3e04bda3-9099-49c3-9747-aab1c0a3ace4/lib/python3.10/site-packages (from spacy<3.8.0,>=3.7.2->en-core-web-sm==3.7.1) (1.0.5)\r\nRequirement already satisfied: langcodes<4.0.0,>=3.2.0 in /local_disk0/.ephemeral_nfs/envs/pythonEnv-3e04bda3-9099-49c3-9747-aab1c0a3ace4/lib/python3.10/site-packages (from spacy<3.8.0,>=3.7.2->en-core-web-sm==3.7.1) (3.4.0)\r\nRequirement already satisfied: murmurhash<1.1.0,>=0.28.0 in /local_disk0/.ephemeral_nfs/envs/pythonEnv-3e04bda3-9099-49c3-9747-aab1c0a3ace4/lib/python3.10/site-packages (from spacy<3.8.0,>=3.7.2->en-core-web-sm==3.7.1) (1.0.10)\r\nRequirement already satisfied: requests<3.0.0,>=2.13.0 in /databricks/python3/lib/python3.10/site-packages (from spacy<3.8.0,>=3.7.2->en-core-web-sm==3.7.1) (2.28.1)\r\nRequirement already satisfied: cymem<2.1.0,>=2.0.2 in /local_disk0/.ephemeral_nfs/envs/pythonEnv-3e04bda3-9099-49c3-9747-aab1c0a3ace4/lib/python3.10/site-packages (from spacy<3.8.0,>=3.7.2->en-core-web-sm==3.7.1) (2.0.8)\r\nRequirement already satisfied: packaging>=20.0 in /databricks/python3/lib/python3.10/site-packages (from spacy<3.8.0,>=3.7.2->en-core-web-sm==3.7.1) (23.2)\r\nRequirement already satisfied: setuptools in /databricks/python3/lib/python3.10/site-packages (from spacy<3.8.0,>=3.7.2->en-core-web-sm==3.7.1) (65.6.3)\r\nRequirement already satisfied: preshed<3.1.0,>=3.0.2 in /local_disk0/.ephemeral_nfs/envs/pythonEnv-3e04bda3-9099-49c3-9747-aab1c0a3ace4/lib/python3.10/site-packages (from spacy<3.8.0,>=3.7.2->en-core-web-sm==3.7.1) (3.0.9)\r\nRequirement already satisfied: thinc<8.3.0,>=8.2.2 in /local_disk0/.ephemeral_nfs/envs/pythonEnv-3e04bda3-9099-49c3-9747-aab1c0a3ace4/lib/python3.10/site-packages (from spacy<3.8.0,>=3.7.2->en-core-web-sm==3.7.1) (8.2.4)\r\nRequirement already satisfied: weasel<0.5.0,>=0.1.0 in /local_disk0/.ephemeral_nfs/envs/pythonEnv-3e04bda3-9099-49c3-9747-aab1c0a3ace4/lib/python3.10/site-packages (from spacy<3.8.0,>=3.7.2->en-core-web-sm==3.7.1) (0.4.1)\r\nRequirement already satisfied: numpy>=1.19.0 in /databricks/python3/lib/python3.10/site-packages (from spacy<3.8.0,>=3.7.2->en-core-web-sm==3.7.1) (1.23.5)\r\nRequirement already satisfied: wasabi<1.2.0,>=0.9.1 in /local_disk0/.ephemeral_nfs/envs/pythonEnv-3e04bda3-9099-49c3-9747-aab1c0a3ace4/lib/python3.10/site-packages (from spacy<3.8.0,>=3.7.2->en-core-web-sm==3.7.1) (1.1.3)\r\nRequirement already satisfied: srsly<3.0.0,>=2.4.3 in /local_disk0/.ephemeral_nfs/envs/pythonEnv-3e04bda3-9099-49c3-9747-aab1c0a3ace4/lib/python3.10/site-packages (from spacy<3.8.0,>=3.7.2->en-core-web-sm==3.7.1) (2.4.8)\r\nRequirement already satisfied: spacy-legacy<3.1.0,>=3.0.11 in /local_disk0/.ephemeral_nfs/envs/pythonEnv-3e04bda3-9099-49c3-9747-aab1c0a3ace4/lib/python3.10/site-packages (from spacy<3.8.0,>=3.7.2->en-core-web-sm==3.7.1) (3.0.12)\r\nRequirement already satisfied: jinja2 in /databricks/python3/lib/python3.10/site-packages (from spacy<3.8.0,>=3.7.2->en-core-web-sm==3.7.1) (3.1.2)\r\nRequirement already satisfied: pydantic!=1.8,!=1.8.1,<3.0.0,>=1.7.4 in /databricks/python3/lib/python3.10/site-packages (from spacy<3.8.0,>=3.7.2->en-core-web-sm==3.7.1) (1.10.6)\r\nRequirement already satisfied: typer<1.0.0,>=0.3.0 in /local_disk0/.ephemeral_nfs/envs/pythonEnv-3e04bda3-9099-49c3-9747-aab1c0a3ace4/lib/python3.10/site-packages (from spacy<3.8.0,>=3.7.2->en-core-web-sm==3.7.1) (0.12.3)\r\nRequirement already satisfied: tqdm<5.0.0,>=4.38.0 in /local_disk0/.ephemeral_nfs/envs/pythonEnv-3e04bda3-9099-49c3-9747-aab1c0a3ace4/lib/python3.10/site-packages (from spacy<3.8.0,>=3.7.2->en-core-web-sm==3.7.1) (4.66.4)\r\nRequirement already satisfied: catalogue<2.1.0,>=2.0.6 in /local_disk0/.ephemeral_nfs/envs/pythonEnv-3e04bda3-9099-49c3-9747-aab1c0a3ace4/lib/python3.10/site-packages (from spacy<3.8.0,>=3.7.2->en-core-web-sm==3.7.1) (2.0.10)\r\nRequirement already satisfied: language-data>=1.2 in /local_disk0/.ephemeral_nfs/envs/pythonEnv-3e04bda3-9099-49c3-9747-aab1c0a3ace4/lib/python3.10/site-packages (from langcodes<4.0.0,>=3.2.0->spacy<3.8.0,>=3.7.2->en-core-web-sm==3.7.1) (1.2.0)\r\nRequirement already satisfied: typing-extensions>=4.2.0 in /databricks/python3/lib/python3.10/site-packages (from pydantic!=1.8,!=1.8.1,<3.0.0,>=1.7.4->spacy<3.8.0,>=3.7.2->en-core-web-sm==3.7.1) (4.4.0)\r\nRequirement already satisfied: certifi>=2017.4.17 in /databricks/python3/lib/python3.10/site-packages (from requests<3.0.0,>=2.13.0->spacy<3.8.0,>=3.7.2->en-core-web-sm==3.7.1) (2022.12.7)\r\nRequirement already satisfied: charset-normalizer<3,>=2 in /databricks/python3/lib/python3.10/site-packages (from requests<3.0.0,>=2.13.0->spacy<3.8.0,>=3.7.2->en-core-web-sm==3.7.1) (2.0.4)\r\nRequirement already satisfied: urllib3<1.27,>=1.21.1 in /databricks/python3/lib/python3.10/site-packages (from requests<3.0.0,>=2.13.0->spacy<3.8.0,>=3.7.2->en-core-web-sm==3.7.1) (1.26.14)\r\nRequirement already satisfied: idna<4,>=2.5 in /databricks/python3/lib/python3.10/site-packages (from requests<3.0.0,>=2.13.0->spacy<3.8.0,>=3.7.2->en-core-web-sm==3.7.1) (3.4)\r\nRequirement already satisfied: blis<0.8.0,>=0.7.8 in /local_disk0/.ephemeral_nfs/envs/pythonEnv-3e04bda3-9099-49c3-9747-aab1c0a3ace4/lib/python3.10/site-packages (from thinc<8.3.0,>=8.2.2->spacy<3.8.0,>=3.7.2->en-core-web-sm==3.7.1) (0.7.11)\r\nRequirement already satisfied: confection<1.0.0,>=0.0.1 in /local_disk0/.ephemeral_nfs/envs/pythonEnv-3e04bda3-9099-49c3-9747-aab1c0a3ace4/lib/python3.10/site-packages (from thinc<8.3.0,>=8.2.2->spacy<3.8.0,>=3.7.2->en-core-web-sm==3.7.1) (0.1.5)\r\nRequirement already satisfied: rich>=10.11.0 in /local_disk0/.ephemeral_nfs/envs/pythonEnv-3e04bda3-9099-49c3-9747-aab1c0a3ace4/lib/python3.10/site-packages (from typer<1.0.0,>=0.3.0->spacy<3.8.0,>=3.7.2->en-core-web-sm==3.7.1) (13.7.1)\r\nRequirement already satisfied: click>=8.0.0 in /databricks/python3/lib/python3.10/site-packages (from typer<1.0.0,>=0.3.0->spacy<3.8.0,>=3.7.2->en-core-web-sm==3.7.1) (8.0.4)\r\nRequirement already satisfied: shellingham>=1.3.0 in /local_disk0/.ephemeral_nfs/envs/pythonEnv-3e04bda3-9099-49c3-9747-aab1c0a3ace4/lib/python3.10/site-packages (from typer<1.0.0,>=0.3.0->spacy<3.8.0,>=3.7.2->en-core-web-sm==3.7.1) (1.5.4)\r\nRequirement already satisfied: cloudpathlib<1.0.0,>=0.7.0 in /local_disk0/.ephemeral_nfs/envs/pythonEnv-3e04bda3-9099-49c3-9747-aab1c0a3ace4/lib/python3.10/site-packages (from weasel<0.5.0,>=0.1.0->spacy<3.8.0,>=3.7.2->en-core-web-sm==3.7.1) (0.18.1)\r\nRequirement already satisfied: smart-open<8.0.0,>=5.2.1 in /local_disk0/.ephemeral_nfs/envs/pythonEnv-3e04bda3-9099-49c3-9747-aab1c0a3ace4/lib/python3.10/site-packages (from weasel<0.5.0,>=0.1.0->spacy<3.8.0,>=3.7.2->en-core-web-sm==3.7.1) (7.0.4)\r\nRequirement already satisfied: MarkupSafe>=2.0 in /databricks/python3/lib/python3.10/site-packages (from jinja2->spacy<3.8.0,>=3.7.2->en-core-web-sm==3.7.1) (2.1.1)\r\nRequirement already satisfied: marisa-trie>=0.7.7 in /local_disk0/.ephemeral_nfs/envs/pythonEnv-3e04bda3-9099-49c3-9747-aab1c0a3ace4/lib/python3.10/site-packages (from language-data>=1.2->langcodes<4.0.0,>=3.2.0->spacy<3.8.0,>=3.7.2->en-core-web-sm==3.7.1) (1.2.0)\r\nRequirement already satisfied: markdown-it-py>=2.2.0 in /local_disk0/.ephemeral_nfs/envs/pythonEnv-3e04bda3-9099-49c3-9747-aab1c0a3ace4/lib/python3.10/site-packages (from rich>=10.11.0->typer<1.0.0,>=0.3.0->spacy<3.8.0,>=3.7.2->en-core-web-sm==3.7.1) (3.0.0)\r\nRequirement already satisfied: pygments<3.0.0,>=2.13.0 in /local_disk0/.ephemeral_nfs/envs/pythonEnv-3e04bda3-9099-49c3-9747-aab1c0a3ace4/lib/python3.10/site-packages (from rich>=10.11.0->typer<1.0.0,>=0.3.0->spacy<3.8.0,>=3.7.2->en-core-web-sm==3.7.1) (2.18.0)\r\nRequirement already satisfied: wrapt in /local_disk0/.ephemeral_nfs/envs/pythonEnv-3e04bda3-9099-49c3-9747-aab1c0a3ace4/lib/python3.10/site-packages (from smart-open<8.0.0,>=5.2.1->weasel<0.5.0,>=0.1.0->spacy<3.8.0,>=3.7.2->en-core-web-sm==3.7.1) (1.16.0)\r\nRequirement already satisfied: mdurl~=0.1 in /local_disk0/.ephemeral_nfs/envs/pythonEnv-3e04bda3-9099-49c3-9747-aab1c0a3ace4/lib/python3.10/site-packages (from markdown-it-py>=2.2.0->rich>=10.11.0->typer<1.0.0,>=0.3.0->spacy<3.8.0,>=3.7.2->en-core-web-sm==3.7.1) (0.1.2)\r\n\r\n\u001B[1m[\u001B[0m\u001B[34;49mnotice\u001B[0m\u001B[1;39;49m]\u001B[0m\u001B[39;49m A new release of pip available: \u001B[0m\u001B[31;49m22.3.1\u001B[0m\u001B[39;49m -> \u001B[0m\u001B[32;49m24.0\u001B[0m\r\n\u001B[1m[\u001B[0m\u001B[34;49mnotice\u001B[0m\u001B[1;39;49m]\u001B[0m\u001B[39;49m To update, run: \u001B[0m\u001B[32;49mpip install --upgrade pip\u001B[0m\r\n\u001B[38;5;2m✔ Download and installation successful\u001B[0m\r\nYou can now load the package via spacy.load('en_core_web_sm')\r\n"
     ]
    }
   ],
   "source": [
    "# modello linguistico \"en_core_web_sm\" per la lingua inglese utilizzando spaCy\n",
    "!python3 -m spacy download en_core_web_sm\n",
    "import re\n",
    "import pandas as pd\n",
    "from nltk.corpus import stopwords\n",
    "from nltk.stem import WordNetLemmatizer\n",
    "import nltk\n",
    "from pyspark.sql import SparkSession\n",
    "from pyspark.sql.functions import udf, regexp_replace, col, lower\n",
    "from pyspark.sql.types import StringType\n",
    "from pyspark.ml import Pipeline\n",
    "from pyspark.ml.feature import StringIndexer, Tokenizer, HashingTF, IDF, StopWordsRemover\n",
    "from pyspark.ml.classification import NaiveBayes\n",
    "from pyspark.ml.evaluation import MulticlassClassificationEvaluator"
   ]
  },
  {
   "cell_type": "code",
   "execution_count": 0,
   "metadata": {
    "application/vnd.databricks.v1+cell": {
     "cellMetadata": {
      "byteLimit": 2048000,
      "rowLimit": 10000
     },
     "inputWidgets": {},
     "nuid": "069ebe50-a58f-47c7-aef4-fe23b6058e10",
     "showTitle": false,
     "title": ""
    }
   },
   "outputs": [
    {
     "output_type": "stream",
     "name": "stderr",
     "output_type": "stream",
     "text": [
      "[nltk_data] Downloading package stopwords to /root/nltk_data...\n[nltk_data]   Package stopwords is already up-to-date!\n[nltk_data] Downloading package wordnet to /root/nltk_data...\n[nltk_data]   Package wordnet is already up-to-date!\n"
     ]
    },
    {
     "output_type": "execute_result",
     "data": {
      "text/plain": [
       "True"
      ]
     },
     "execution_count": 5,
     "metadata": {},
     "output_type": "execute_result"
    }
   ],
   "source": [
    "# Scarica risorse per nltk\n",
    "nltk.download('stopwords')\n",
    "nltk.download('wordnet')"
   ]
  },
  {
   "cell_type": "code",
   "execution_count": 0,
   "metadata": {
    "application/vnd.databricks.v1+cell": {
     "cellMetadata": {
      "byteLimit": 2048000,
      "rowLimit": 10000
     },
     "inputWidgets": {},
     "nuid": "5008770e-3acd-43d5-9ce2-9655e8db42cf",
     "showTitle": false,
     "title": ""
    }
   },
   "outputs": [],
   "source": [
    "# Carica il dataset\n",
    "dataset = pd.read_csv('/databricks/driver/wikipedia.csv')\n",
    "spark_df = spark.createDataFrame(dataset)\n",
    "spark_df = spark_df.drop(\"Unnamed: 0\").withColumnRenamed(\"categoria\", \"category\")# Rimozione dei valori nulli e dei duplicati\n"
   ]
  },
  {
   "cell_type": "code",
   "execution_count": 0,
   "metadata": {
    "application/vnd.databricks.v1+cell": {
     "cellMetadata": {
      "byteLimit": 2048000,
      "rowLimit": 10000
     },
     "inputWidgets": {},
     "nuid": "49770263-d45b-4677-8508-f246ba3f70dc",
     "showTitle": false,
     "title": ""
    }
   },
   "outputs": [],
   "source": [
    "spark_df = spark_df.dropna(subset=[\"summary\", \"documents\", \"category\"])\n",
    "spark_df = spark_df.dropDuplicates()"
   ]
  },
  {
   "cell_type": "code",
   "execution_count": 0,
   "metadata": {
    "application/vnd.databricks.v1+cell": {
     "cellMetadata": {
      "byteLimit": 2048000,
      "rowLimit": 10000
     },
     "inputWidgets": {},
     "nuid": "d96f121a-1862-4d6a-bc0c-16eeae961504",
     "showTitle": false,
     "title": ""
    }
   },
   "outputs": [],
   "source": [
    "# Preprocessing del testo usando funzioni PySpark\n",
    "def preprocess_dataframe(df, text_column):\n",
    "    df = df.withColumn(text_column, regexp_replace(col(text_column), r'\\W', ' '))\n",
    "    df = df.withColumn(text_column, regexp_replace(col(text_column), r'\\d', ' '))\n",
    "    df = df.withColumn(text_column, lower(col(text_column)))\n",
    "    return df"
   ]
  },
  {
   "cell_type": "code",
   "execution_count": 0,
   "metadata": {
    "application/vnd.databricks.v1+cell": {
     "cellMetadata": {
      "byteLimit": 2048000,
      "rowLimit": 10000
     },
     "inputWidgets": {},
     "nuid": "70b54a5c-3c11-46a9-aa51-22fb80608d0a",
     "showTitle": false,
     "title": ""
    }
   },
   "outputs": [],
   "source": [
    "spark_df = preprocess_dataframe(spark_df, \"summary\")\n",
    "spark_df = preprocess_dataframe(spark_df, \"documents\")"
   ]
  },
  {
   "cell_type": "code",
   "execution_count": 0,
   "metadata": {
    "application/vnd.databricks.v1+cell": {
     "cellMetadata": {
      "byteLimit": 2048000,
      "rowLimit": 10000
     },
     "inputWidgets": {},
     "nuid": "4dbbb14c-7ab3-4d17-9b24-3f05d4da17c8",
     "showTitle": false,
     "title": ""
    }
   },
   "outputs": [],
   "source": [
    "# Tokenizer\n",
    "tokenizer_summary = Tokenizer(inputCol=\"summary\", outputCol=\"summary_tokens\")\n",
    "tokenizer_documents = Tokenizer(inputCol=\"documents\", outputCol=\"documents_tokens\")"
   ]
  },
  {
   "cell_type": "code",
   "execution_count": 0,
   "metadata": {
    "application/vnd.databricks.v1+cell": {
     "cellMetadata": {
      "byteLimit": 2048000,
      "rowLimit": 10000
     },
     "inputWidgets": {},
     "nuid": "a6a35a6a-2e7b-4330-a27e-4b0dea81d3fc",
     "showTitle": false,
     "title": ""
    }
   },
   "outputs": [],
   "source": [
    "# Rimuovi parole di stop\n",
    "stopwords = StopWordsRemover.loadDefaultStopWords(\"english\")\n",
    "remover_summary = StopWordsRemover(inputCol=\"summary_tokens\", outputCol=\"filtered_summary_tokens\", stopWords=stopwords)\n",
    "remover_documents = StopWordsRemover(inputCol=\"documents_tokens\", outputCol=\"filtered_documents_tokens\", stopWords=stopwords)\n"
   ]
  },
  {
   "cell_type": "code",
   "execution_count": 0,
   "metadata": {
    "application/vnd.databricks.v1+cell": {
     "cellMetadata": {
      "byteLimit": 2048000,
      "rowLimit": 10000
     },
     "inputWidgets": {},
     "nuid": "44a375cf-0f9d-4881-861c-d4af256488bc",
     "showTitle": false,
     "title": ""
    }
   },
   "outputs": [],
   "source": [
    "# TF-IDF per summary\n",
    "hashingTF_summary = HashingTF(inputCol=\"filtered_summary_tokens\", outputCol=\"raw_summary_features\")\n",
    "idf_summary = IDF(inputCol=\"raw_summary_features\", outputCol=\"summary_features\")\n",
    "\n"
   ]
  },
  {
   "cell_type": "code",
   "execution_count": 0,
   "metadata": {
    "application/vnd.databricks.v1+cell": {
     "cellMetadata": {
      "byteLimit": 2048000,
      "rowLimit": 10000
     },
     "inputWidgets": {},
     "nuid": "0444d52d-4e4e-42ad-bcc1-6adb270b2807",
     "showTitle": false,
     "title": ""
    }
   },
   "outputs": [],
   "source": [
    "# TF-IDF per documents\n",
    "hashingTF_documents = HashingTF(inputCol=\"filtered_documents_tokens\", outputCol=\"raw_documents_features\")\n",
    "idf_documents = IDF(inputCol=\"raw_documents_features\", outputCol=\"documents_features\")\n"
   ]
  },
  {
   "cell_type": "code",
   "execution_count": 0,
   "metadata": {
    "application/vnd.databricks.v1+cell": {
     "cellMetadata": {
      "byteLimit": 2048000,
      "rowLimit": 10000
     },
     "inputWidgets": {},
     "nuid": "acdfae65-5b19-4671-8c24-c1992c4b1302",
     "showTitle": false,
     "title": ""
    }
   },
   "outputs": [],
   "source": [
    "# Naive Bayes\n",
    "nb_summary = NaiveBayes(featuresCol=\"summary_features\", labelCol=\"label\")\n",
    "nb_documents = NaiveBayes(featuresCol=\"documents_features\", labelCol=\"label\")"
   ]
  },
  {
   "cell_type": "code",
   "execution_count": 0,
   "metadata": {
    "application/vnd.databricks.v1+cell": {
     "cellMetadata": {
      "byteLimit": 2048000,
      "rowLimit": 10000
     },
     "inputWidgets": {},
     "nuid": "0b91ce19-0a69-43ff-a9f6-e9cd6441043d",
     "showTitle": false,
     "title": ""
    }
   },
   "outputs": [],
   "source": [
    "# Pipeline per summary\n",
    "pipeline_summary = Pipeline(stages=[\n",
    "    StringIndexer(inputCol=\"category\", outputCol=\"label\"),\n",
    "    tokenizer_summary,\n",
    "    remover_summary,\n",
    "    hashingTF_summary,\n",
    "    idf_summary,\n",
    "    nb_summary\n",
    "])\n",
    "\n"
   ]
  },
  {
   "cell_type": "code",
   "execution_count": 0,
   "metadata": {
    "application/vnd.databricks.v1+cell": {
     "cellMetadata": {
      "byteLimit": 2048000,
      "rowLimit": 10000
     },
     "inputWidgets": {},
     "nuid": "13c4d793-6e4e-4354-a36b-25408475b9b6",
     "showTitle": false,
     "title": ""
    }
   },
   "outputs": [],
   "source": [
    "# Pipeline per documents\n",
    "pipeline_documents = Pipeline(stages=[\n",
    "    StringIndexer(inputCol=\"category\", outputCol=\"label\"),\n",
    "    tokenizer_documents,\n",
    "    remover_documents,\n",
    "    hashingTF_documents,\n",
    "    idf_documents,\n",
    "    nb_documents\n",
    "])"
   ]
  },
  {
   "cell_type": "code",
   "execution_count": 0,
   "metadata": {
    "application/vnd.databricks.v1+cell": {
     "cellMetadata": {
      "byteLimit": 2048000,
      "rowLimit": 10000
     },
     "inputWidgets": {},
     "nuid": "6c777e3b-a559-4c5b-ac02-9514726800f5",
     "showTitle": false,
     "title": ""
    }
   },
   "outputs": [],
   "source": [
    "# Suddivisione del dataset in training e test set (stessa suddivisione per entrambi i modelli)\n",
    "train, test = spark_df.randomSplit([0.8, 0.2], seed=42)"
   ]
  },
  {
   "cell_type": "code",
   "execution_count": 0,
   "metadata": {
    "application/vnd.databricks.v1+cell": {
     "cellMetadata": {
      "byteLimit": 2048000,
      "rowLimit": 10000
     },
     "inputWidgets": {},
     "nuid": "bb3d1a03-aee2-459d-8a93-12e7300d0816",
     "showTitle": false,
     "title": ""
    }
   },
   "outputs": [],
   "source": [
    "# Addestramento del modello per summary\n",
    "model_summary = pipeline_summary.fit(train)\n",
    "# Addestramento del modello per documents\n",
    "model_documents = pipeline_documents.fit(train)"
   ]
  },
  {
   "cell_type": "code",
   "execution_count": 0,
   "metadata": {
    "application/vnd.databricks.v1+cell": {
     "cellMetadata": {
      "byteLimit": 2048000,
      "rowLimit": 10000
     },
     "inputWidgets": {},
     "nuid": "87fbd9b0-8623-40ca-893d-bfc1c208bf08",
     "showTitle": false,
     "title": ""
    }
   },
   "outputs": [],
   "source": [
    "# Funzione per valutare il modello con diverse metriche\n",
    "def evaluate_model(predictions, label_col=\"label\", prediction_col=\"prediction\"):\n",
    "    metrics = [\"accuracy\", \"f1\", \"weightedPrecision\", \"weightedRecall\"]\n",
    "    evaluator = MulticlassClassificationEvaluator(labelCol=label_col, predictionCol=prediction_col)\n",
    "\n",
    "    results = {}\n",
    "    for metric in metrics:\n",
    "        evaluator.setMetricName(metric)\n",
    "        results[metric] = evaluator.evaluate(predictions)\n",
    "    \n",
    "    return results"
   ]
  },
  {
   "cell_type": "code",
   "execution_count": 0,
   "metadata": {
    "application/vnd.databricks.v1+cell": {
     "cellMetadata": {
      "byteLimit": 2048000,
      "rowLimit": 10000
     },
     "inputWidgets": {},
     "nuid": "caeec343-be1d-4d25-a879-7ea257db481e",
     "showTitle": false,
     "title": ""
    }
   },
   "outputs": [
    {
     "output_type": "stream",
     "name": "stdout",
     "output_type": "stream",
     "text": [
      "Risultati per summary:\naccuracy: 0.8224261233301848\nf1: 0.8212939356492959\nweightedPrecision: 0.8255882425644988\nweightedRecall: 0.8224261233301848\n"
     ]
    }
   ],
   "source": [
    "# Predizione e valutazione per summary\n",
    "predictions_summary = model_summary.transform(test)\n",
    "results_summary = evaluate_model(predictions_summary)\n",
    "print(\"Risultati per summary:\")\n",
    "for metric, value in results_summary.items():\n",
    "    print(f\"{metric}: {value}\")"
   ]
  },
  {
   "cell_type": "code",
   "execution_count": 0,
   "metadata": {
    "application/vnd.databricks.v1+cell": {
     "cellMetadata": {
      "byteLimit": 2048000,
      "rowLimit": 10000
     },
     "inputWidgets": {},
     "nuid": "3a826523-99e1-483f-ba0f-38a576b887ea",
     "showTitle": false,
     "title": ""
    }
   },
   "outputs": [
    {
     "output_type": "stream",
     "name": "stdout",
     "output_type": "stream",
     "text": [
      "Risultati per documents:\naccuracy: 0.8222237214950749\nf1: 0.8215391824531326\nweightedPrecision: 0.8272954219300815\nweightedRecall: 0.8222237214950749\n"
     ]
    }
   ],
   "source": [
    "# Predizione e valutazione per documents\n",
    "predictions_documents = model_documents.transform(test)\n",
    "results_documents = evaluate_model(predictions_documents)\n",
    "print(\"Risultati per documents:\")\n",
    "for metric, value in results_documents.items():\n",
    "    print(f\"{metric}: {value}\")"
   ]
  }
 ],
 "metadata": {
  "application/vnd.databricks.v1+notebook": {
   "dashboards": [],
   "environmentMetadata": null,
   "language": "python",
   "notebookMetadata": {
    "pythonIndentUnit": 4
   },
   "notebookName": "Progetto Big Data Naive Bayes",
   "widgets": {}
  }
 },
 "nbformat": 4,
 "nbformat_minor": 0
}
